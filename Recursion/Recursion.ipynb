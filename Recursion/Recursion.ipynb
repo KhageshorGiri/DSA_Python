{
 "cells": [
  {
   "cell_type": "code",
   "execution_count": 1,
   "id": "9a0b1725",
   "metadata": {},
   "outputs": [],
   "source": [
    "#Program to display string \"My Name is Khageshor giri\""
   ]
  },
  {
   "cell_type": "code",
   "execution_count": 13,
   "id": "5f9a2bed",
   "metadata": {},
   "outputs": [
    {
     "name": "stdout",
     "output_type": "stream",
     "text": [
      "My Name Is Khageshor Giri.\n",
      "My Name Is Khageshor Giri.\n",
      "My Name Is Khageshor Giri.\n",
      "My Name Is Khageshor Giri.\n",
      "My Name Is Khageshor Giri.\n",
      "My Name Is Khageshor Giri.\n",
      "My Name Is Khageshor Giri.\n",
      "My Name Is Khageshor Giri.\n",
      "My Name Is Khageshor Giri.\n",
      "My Name Is Khageshor Giri.\n"
     ]
    }
   ],
   "source": [
    "def displayName(name):\n",
    "    n = 1\n",
    "    while n <= 10:\n",
    "        print(name)\n",
    "        n = n+ 1\n",
    "    \n",
    "        \n",
    "name = \"My Name Is Khageshor Giri.\"\n",
    "displayName(name)"
   ]
  },
  {
   "cell_type": "code",
   "execution_count": 14,
   "id": "0d049fdc",
   "metadata": {},
   "outputs": [],
   "source": [
    "#  Calculating the factorial of integer using recursion"
   ]
  },
  {
   "cell_type": "code",
   "execution_count": 16,
   "id": "b5ea88b7",
   "metadata": {},
   "outputs": [
    {
     "name": "stdout",
     "output_type": "stream",
     "text": [
      "Enter any number: 5\n",
      "The factorial of 5 is 120\n"
     ]
    }
   ],
   "source": [
    "def fact(n):\n",
    "    if n == 1:\n",
    "        return 1\n",
    "    else:\n",
    "        return n * fact(n-1)\n",
    "\n",
    "number = int(input('Enter any number: '))\n",
    "factorial = fact(number)\n",
    "print(f\"The factorial of {number} is {factorial}\")"
   ]
  },
  {
   "cell_type": "code",
   "execution_count": 17,
   "id": "4c74c024",
   "metadata": {},
   "outputs": [],
   "source": [
    "#Program to generate Fibonacci series up to n terms using recursion."
   ]
  },
  {
   "cell_type": "code",
   "execution_count": 22,
   "id": "5b1c009c",
   "metadata": {},
   "outputs": [
    {
     "name": "stdout",
     "output_type": "stream",
     "text": [
      "Enter any number: 10\n",
      "The 10 fibonacci numbeer is 55\n"
     ]
    }
   ],
   "source": [
    "def fibo(n):\n",
    "    if n == 1 or n == 2:\n",
    "        return 1\n",
    "    else:\n",
    "        return fibo(n-1) + fibo(n-2)\n",
    "\n",
    "number = int(input('Enter any number: '))\n",
    "fibo = fibo(number)\n",
    "print(f\"The {number} fibonacci numbeer is {fibo}\")"
   ]
  },
  {
   "cell_type": "code",
   "execution_count": 23,
   "id": "2c0e8f57",
   "metadata": {},
   "outputs": [],
   "source": [
    "# Program to find the sum of first n natural number using recursion."
   ]
  },
  {
   "cell_type": "code",
   "execution_count": 24,
   "id": "1e8a032d",
   "metadata": {},
   "outputs": [
    {
     "name": "stdout",
     "output_type": "stream",
     "text": [
      "Please Enter value of n: 5\n",
      "The sum of 5th natural number is 15\n"
     ]
    }
   ],
   "source": [
    "def sum_natural(n):\n",
    "    if n == 1:\n",
    "        return 1\n",
    "    else:\n",
    "        return n + sum_natural(n-1)\n",
    "\n",
    "number = int(input(\"Please Enter value of n: \"))\n",
    "sumValue = sum_natural(number)\n",
    "print(f\"The sum of {number}th natural number is {sumValue}\")"
   ]
  },
  {
   "cell_type": "code",
   "execution_count": 25,
   "id": "ce2d7779",
   "metadata": {},
   "outputs": [],
   "source": [
    "# Program to find reverse of given number using recursion"
   ]
  },
  {
   "cell_type": "code",
   "execution_count": 42,
   "id": "e6d59168",
   "metadata": {},
   "outputs": [
    {
     "name": "stdout",
     "output_type": "stream",
     "text": [
      "Please Enter any number: 1234\n",
      "The reverse of 1234 is 4321\n"
     ]
    }
   ],
   "source": [
    "\"\"\"\n",
    " reverse = 0\n",
    "    while number > 0:\n",
    "        reminder = number % 10\n",
    "        reverse = reminder + (reverse * 10)\n",
    "        number = number // 10\n",
    "    return reverse\n",
    "\"\"\"\n",
    "\n",
    "def reverse_number(number, length):\n",
    "    if length == 1:\n",
    "        return 1\n",
    "    else:\n",
    "        return ((number%10) * pow(10, length-1) + reverse_number(number//10, length-1))\n",
    "\n",
    "number = int(input(\"Please Enter any number: \"))\n",
    "reverseValue = reverse_number(number, len(str(number)))\n",
    "print(f\"The reverse of {number} is {reverseValue}\")"
   ]
  },
  {
   "cell_type": "code",
   "execution_count": 43,
   "id": "62b51143",
   "metadata": {},
   "outputs": [],
   "source": [
    "# Program to find the value of xn using recursion"
   ]
  },
  {
   "cell_type": "code",
   "execution_count": 44,
   "id": "ce1ab47b",
   "metadata": {},
   "outputs": [
    {
     "name": "stdout",
     "output_type": "stream",
     "text": [
      "Enter any number: 2\n",
      "Enter the power value: 3\n",
      "The 2 to the 3 is 8\n"
     ]
    }
   ],
   "source": [
    "def power(x,n):\n",
    "    if n == 0:\n",
    "        return 1\n",
    "    else:\n",
    "        return x * power(x, n-1)\n",
    "\n",
    "number = int(input('Enter any number: '))\n",
    "exp = int(input(\"Enter the power value: \"))\n",
    "result = power(number, exp)\n",
    "print(f\"The {number} to the {exp} is {result}\")"
   ]
  },
  {
   "cell_type": "code",
   "execution_count": 45,
   "id": "8e59546d",
   "metadata": {},
   "outputs": [],
   "source": [
    "# Program to reverse a string using recursion"
   ]
  },
  {
   "cell_type": "code",
   "execution_count": 47,
   "id": "c9e2e004",
   "metadata": {},
   "outputs": [
    {
     "name": "stdout",
     "output_type": "stream",
     "text": [
      "Enter any string value: hello\n",
      "The reverse of hello is ohell\n"
     ]
    }
   ],
   "source": [
    "def reverse_string(string):\n",
    "    if len(string) == 1:\n",
    "        return string\n",
    "    else:\n",
    "        return string[-1] + string[0:len(string)-1]\n",
    "\n",
    "string = input(\"Enter any string value: \")\n",
    "result = reverse_string(string)\n",
    "print(f\"The reverse of {string} is {result}\")"
   ]
  },
  {
   "cell_type": "code",
   "execution_count": null,
   "id": "fc92791e",
   "metadata": {},
   "outputs": [],
   "source": []
  }
 ],
 "metadata": {
  "kernelspec": {
   "display_name": "Python 3 (ipykernel)",
   "language": "python",
   "name": "python3"
  },
  "language_info": {
   "codemirror_mode": {
    "name": "ipython",
    "version": 3
   },
   "file_extension": ".py",
   "mimetype": "text/x-python",
   "name": "python",
   "nbconvert_exporter": "python",
   "pygments_lexer": "ipython3",
   "version": "3.11.0"
  }
 },
 "nbformat": 4,
 "nbformat_minor": 5
}
